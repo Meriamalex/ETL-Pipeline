{
 "cells": [
  {
   "cell_type": "code",
   "execution_count": 1,
   "id": "4278380b",
   "metadata": {},
   "outputs": [
    {
     "name": "stdout",
     "output_type": "stream",
     "text": [
      "0\n",
      "4\n",
      "8\n",
      "12\n",
      "16\n",
      "20\n"
     ]
    }
   ],
   "source": [
    "for i in range(0,21,4):\n",
    "    print(i)"
   ]
  },
  {
   "cell_type": "code",
   "execution_count": 2,
   "id": "5473c5a6",
   "metadata": {},
   "outputs": [
    {
     "name": "stdout",
     "output_type": "stream",
     "text": [
      "3551\n"
     ]
    }
   ],
   "source": [
    "#Write a loop to calculate the total sales for the month. Then, write another loop to count how many days had sales above $100.\n",
    "daily_sales=[120, 85, 99, 130, 110, 95, 150, 75, 100, 102,115, 90, 140, 50, 160, 105, 88, 115, 60, 130,125, 55, 99, 180, 95, 75, 110, 120, 135, 98,340]\n",
    "total_sales=0\n",
    "for i in daily_sales:\n",
    "    total_sales=i+total_sales\n",
    "print(total_sales)"
   ]
  },
  {
   "cell_type": "code",
   "execution_count": 3,
   "id": "58d28151",
   "metadata": {},
   "outputs": [
    {
     "name": "stdout",
     "output_type": "stream",
     "text": [
      "17\n"
     ]
    }
   ],
   "source": [
    "count=0\n",
    "for i in daily_sales:\n",
    "    if i> 100:\n",
    "        count=count+1\n",
    "print(count)"
   ]
  },
  {
   "cell_type": "code",
   "execution_count": 6,
   "id": "eb42976b",
   "metadata": {},
   "outputs": [
    {
     "name": "stdout",
     "output_type": "stream",
     "text": [
      "114.54838709677419\n"
     ]
    }
   ],
   "source": [
    "#The owner wants to know the average daily sales for the month. Write a loop to calculate the average sales for the month.\n",
    "daily_sales=[120, 85, 99, 130, 110, 95, 150, 75, 100, 102,115, 90, 140, 50, 160, 105, 88, 115, 60, 130,125, 55, 99, 180, 95, 75, 110, 120, 135, 98,340]\n",
    "avg_sales=0\n",
    "for i in daily_sales:\n",
    "    avg_sales=sum(daily_sales)/len(daily_sales)\n",
    "print(avg_sales)\n"
   ]
  },
  {
   "cell_type": "code",
   "execution_count": 17,
   "id": "00a75b0b",
   "metadata": {},
   "outputs": [
    {
     "name": "stdout",
     "output_type": "stream",
     "text": [
      "16\n"
     ]
    }
   ],
   "source": [
    "#The manager wants to know how many days had sales higher than the previous day’s sales.Write a loop to count how many days had higher sales compared to the previous day\n",
    "\n",
    "Higher_sales=0\n",
    "for i in range(1,len(daily_sales)):\n",
    "    if daily_sales[i]> daily_sales[i-1]:\n",
    "        Higher_sales+=1\n",
    "print(Higher_sales)"
   ]
  },
  {
   "cell_type": "code",
   "execution_count": 10,
   "id": "a1af28e9",
   "metadata": {},
   "outputs": [
    {
     "name": "stdout",
     "output_type": "stream",
     "text": [
      "31\n"
     ]
    }
   ],
   "source": [
    "num_days = len(daily_sales)\n",
    "print(num_days)"
   ]
  },
  {
   "cell_type": "code",
   "execution_count": 13,
   "id": "2b0007c7",
   "metadata": {},
   "outputs": [
    {
     "name": "stdout",
     "output_type": "stream",
     "text": [
      "18\n"
     ]
    }
   ],
   "source": [
    "#The manager wants to identify days when sales were below the monthly average. Write a loop to count how many days had sales below the average sales for the month.\n",
    "days_below_average = 0\n",
    "\n",
    "for i in daily_sales:\n",
    "    if i < avg_sales:\n",
    "        days_below_average += 1\n",
    "print(days_below_average)   "
   ]
  },
  {
   "cell_type": "code",
   "execution_count": 14,
   "id": "70e02930",
   "metadata": {},
   "outputs": [
    {
     "name": "stdout",
     "output_type": "stream",
     "text": [
      "340\n",
      "50\n"
     ]
    }
   ],
   "source": [
    "#The manager wants to identify the days with the highest and lowest sales in the month.Write a loop to find the days with the maximum and minimum sales.\n",
    "\n",
    "max_sales = daily_sales[0]\n",
    "min_sales = daily_sales[0]\n",
    "\n",
    "for i in range(len(daily_sales)):\n",
    "    if daily_sales[i] > max_sales:\n",
    "        max_sales = daily_sales[i]\n",
    "        max_day = i + 1\n",
    "    if daily_sales[i] < min_sales:\n",
    "        min_sales = daily_sales[i]\n",
    "        min_day = i + 1\n",
    "\n",
    "print(max_sales)\n",
    "print(min_sales)"
   ]
  },
  {
   "cell_type": "code",
   "execution_count": null,
   "id": "1b3f67d1",
   "metadata": {},
   "outputs": [],
   "source": []
  }
 ],
 "metadata": {
  "kernelspec": {
   "display_name": "Python 3 (ipykernel)",
   "language": "python",
   "name": "python3"
  },
  "language_info": {
   "codemirror_mode": {
    "name": "ipython",
    "version": 3
   },
   "file_extension": ".py",
   "mimetype": "text/x-python",
   "name": "python",
   "nbconvert_exporter": "python",
   "pygments_lexer": "ipython3",
   "version": "3.11.4"
  }
 },
 "nbformat": 4,
 "nbformat_minor": 5
}
