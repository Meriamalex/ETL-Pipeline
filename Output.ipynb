{
 "cells": [
  {
   "cell_type": "code",
   "execution_count": 19,
   "id": "e9c95630",
   "metadata": {},
   "outputs": [
    {
     "name": "stdout",
     "output_type": "stream",
     "text": [
      "[{'sale_id': '1001', 'date': '9/1/2024', 'customer_id': 'C101', 'product_id': 'P201', 'quantity': '2', 'price': '29.99'}, {'sale_id': '1002', 'date': '9/2/2024', 'customer_id': 'C102', 'product_id': 'P202', 'quantity': '1', 'price': '49.99'}, {'sale_id': '1003', 'date': '9/2/2024', 'customer_id': 'C103', 'product_id': 'P203', 'quantity': '3', 'price': '15.99'}, {'sale_id': '1004', 'date': '9/3/2024', 'customer_id': 'C101', 'product_id': 'P204', 'quantity': '1', 'price': '99.99'}, {'sale_id': '1005', 'date': '9/4/2024', 'customer_id': 'C104', 'product_id': 'P201', 'quantity': '2', 'price': '29.99'}]\n"
     ]
    }
   ],
   "source": [
    "import csv\n",
    "\n",
    "with open (\"C:/Users/lenovo/Downloads/sales(in).csv\",\"r\") as file:\n",
    "\n",
    "    reader1=csv.DictReader(file)\n",
    "\n",
    "    sales_data=(list(reader1))\n",
    "\n",
    "    print(sales_data[0:5])\n",
    "   \n",
    "  "
   ]
  },
  {
   "cell_type": "code",
   "execution_count": 20,
   "id": "54ddfd22",
   "metadata": {},
   "outputs": [
    {
     "name": "stdout",
     "output_type": "stream",
     "text": [
      "[{'product_id': 'P201', 'product_name': 'Wireless Mouse', 'category': 'Electronics', 'cost_price': '20'}, {'product_id': 'P202', 'product_name': 'LED Desk Lamp', 'category': 'Home & Office', 'cost_price': '35'}, {'product_id': 'P203', 'product_name': 'Notebook Set', 'category': 'Stationery', 'cost_price': '10'}, {'product_id': 'P204', 'product_name': 'Bluetooth Speaker', 'category': 'Electronics', 'cost_price': '75'}, {'product_id': 'P205', 'product_name': 'Ergonomic Chair', 'category': 'Furniture', 'cost_price': '150'}]\n"
     ]
    }
   ],
   "source": [
    "with open (\"C:/Users/lenovo/Downloads/Product(in).csv\",\"r\") as file:\n",
    "\n",
    "    reader2=csv.DictReader(file)\n",
    "\n",
    "    product_data=(list(reader2))\n",
    "    print(product_data[0:5])"
   ]
  },
  {
   "cell_type": "code",
   "execution_count": 21,
   "id": "fbe0f1f9",
   "metadata": {},
   "outputs": [
    {
     "name": "stdout",
     "output_type": "stream",
     "text": [
      "[{'customer_id': 'C101', 'name': 'Alex Johnson', 'email': 'alex.johnson@example.com', 'address': '101 Maple Street', 'join_date': '1/15/2023'}, {'customer_id': 'C102', 'name': 'Emily Davis', 'email': 'emily.davis@example.com', 'address': '202 Oak Avenue', 'join_date': '1/22/2023'}, {'customer_id': 'C103', 'name': 'Michael Brown', 'email': 'michael.brown@example.com', 'address': '303 Pine Road', 'join_date': '1/29/2023'}, {'customer_id': 'C104', 'name': 'Sophia Wilson', 'email': 'sophia.wilson@example.com', 'address': '404 Cedar Lane', 'join_date': '2/5/2023'}, {'customer_id': 'C105', 'name': 'Daniel Smith', 'email': 'daniel.smith@example.com', 'address': '505 Birch Drive', 'join_date': '2/12/2023'}]\n"
     ]
    }
   ],
   "source": [
    "    \n",
    "with open (\"C:/Users/lenovo/Downloads/Customer(in).csv\",\"r\") as file:\n",
    "\n",
    "    reader3=csv.DictReader(file)\n",
    "\n",
    "    customer_data=(list(reader3))\n",
    "\n",
    "print(customer_data[0:5])  "
   ]
  },
  {
   "cell_type": "code",
   "execution_count": 42,
   "id": "401093d7",
   "metadata": {},
   "outputs": [
    {
     "name": "stdout",
     "output_type": "stream",
     "text": [
      "[{'sale_id': '1001', 'date': '9/1/2024', 'customer_id': 'C101', 'product_id': 'P201', 'quantity': '2', 'price': '29.99', 'stock_value': 59.98, 'sales_value': 59.98}, {'sale_id': '1002', 'date': '9/2/2024', 'customer_id': 'C102', 'product_id': 'P202', 'quantity': '1', 'price': '49.99', 'stock_value': 49.99, 'sales_value': 49.99}, {'sale_id': '1003', 'date': '9/2/2024', 'customer_id': 'C103', 'product_id': 'P203', 'quantity': '3', 'price': '15.99', 'stock_value': 47.97, 'sales_value': 47.97}, {'sale_id': '1004', 'date': '9/3/2024', 'customer_id': 'C101', 'product_id': 'P204', 'quantity': '1', 'price': '99.99', 'stock_value': 99.99, 'sales_value': 99.99}, {'sale_id': '1005', 'date': '9/4/2024', 'customer_id': 'C104', 'product_id': 'P201', 'quantity': '2', 'price': '29.99', 'stock_value': 59.98, 'sales_value': 59.98}]\n"
     ]
    }
   ],
   "source": [
    "for i in sales_data:\n",
    "    # Calculate the sales value for the current sale\n",
    "    i['sales_value']=float(i['quantity']) * float(i['price'])\n",
    "   \n",
    "    \n",
    "    # Print the details\n",
    "print(sales_data[0:5])\n",
    "    \n"
   ]
  },
  {
   "cell_type": "code",
   "execution_count": 33,
   "id": "32d62e8b",
   "metadata": {},
   "outputs": [
    {
     "data": {
      "text/plain": [
       "{'sale_id': '1002',\n",
       " 'date': '9/2/2024',\n",
       " 'customer_id': 'C102',\n",
       " 'product_id': 'P202',\n",
       " 'quantity': '1',\n",
       " 'price': '49.99'}"
      ]
     },
     "execution_count": 33,
     "metadata": {},
     "output_type": "execute_result"
    }
   ],
   "source": [
    "sales_data[1]\n"
   ]
  },
  {
   "cell_type": "code",
   "execution_count": 35,
   "id": "494ccd39",
   "metadata": {},
   "outputs": [
    {
     "data": {
      "text/plain": [
       "'1'"
      ]
     },
     "execution_count": 35,
     "metadata": {},
     "output_type": "execute_result"
    }
   ],
   "source": [
    "sales_data[1]['quantity']"
   ]
  },
  {
   "cell_type": "code",
   "execution_count": 36,
   "id": "8bde2f1d",
   "metadata": {},
   "outputs": [
    {
     "data": {
      "text/plain": [
       "'49.99'"
      ]
     },
     "execution_count": 36,
     "metadata": {},
     "output_type": "execute_result"
    }
   ],
   "source": [
    "sales_data[1]['price']"
   ]
  },
  {
   "cell_type": "code",
   "execution_count": 43,
   "id": "2c39aaef",
   "metadata": {},
   "outputs": [],
   "source": [
    "# to delete a key\n",
    "\n",
    "for i in sales_data:\n",
    "    del i['stock_value']\n"
   ]
  },
  {
   "cell_type": "code",
   "execution_count": 44,
   "id": "ef6e3674",
   "metadata": {},
   "outputs": [
    {
     "name": "stdout",
     "output_type": "stream",
     "text": [
      "[{'sale_id': '1001', 'date': '9/1/2024', 'customer_id': 'C101', 'product_id': 'P201', 'quantity': '2', 'price': '29.99', 'sales_value': 59.98}, {'sale_id': '1002', 'date': '9/2/2024', 'customer_id': 'C102', 'product_id': 'P202', 'quantity': '1', 'price': '49.99', 'sales_value': 49.99}, {'sale_id': '1003', 'date': '9/2/2024', 'customer_id': 'C103', 'product_id': 'P203', 'quantity': '3', 'price': '15.99', 'sales_value': 47.97}, {'sale_id': '1004', 'date': '9/3/2024', 'customer_id': 'C101', 'product_id': 'P204', 'quantity': '1', 'price': '99.99', 'sales_value': 99.99}, {'sale_id': '1005', 'date': '9/4/2024', 'customer_id': 'C104', 'product_id': 'P201', 'quantity': '2', 'price': '29.99', 'sales_value': 59.98}]\n"
     ]
    }
   ],
   "source": [
    "print(sales_data[0:5])"
   ]
  },
  {
   "cell_type": "code",
   "execution_count": 45,
   "id": "fcae756e",
   "metadata": {},
   "outputs": [
    {
     "name": "stdout",
     "output_type": "stream",
     "text": [
      "59.98\n",
      "49.99\n",
      "47.97\n",
      "99.99\n",
      "59.98\n",
      "199.96\n",
      "15.99\n",
      "499.95\n",
      "59.98\n",
      "149.97\n",
      "31.98\n",
      "399.96\n",
      "29.99\n",
      "249.95000000000002\n",
      "47.97\n",
      "199.98\n",
      "119.96\n",
      "49.99\n",
      "79.95\n",
      "299.96999999999997\n",
      "59.98\n",
      "199.96\n",
      "15.99\n",
      "499.95\n",
      "89.97\n",
      "99.98\n",
      "63.96\n",
      "99.99\n",
      "149.95\n",
      "149.97\n",
      "31.98\n",
      "399.96\n",
      "29.99\n",
      "249.95000000000002\n",
      "47.97\n",
      "199.98\n",
      "119.96\n",
      "49.99\n",
      "79.95\n",
      "299.96999999999997\n",
      "59.98\n",
      "199.96\n",
      "15.99\n",
      "499.95\n",
      "89.97\n",
      "99.98\n",
      "63.96\n",
      "99.99\n",
      "149.95\n",
      "149.97\n",
      "31.98\n",
      "399.96\n",
      "29.99\n",
      "249.95000000000002\n",
      "47.97\n",
      "199.98\n",
      "119.96\n",
      "49.99\n",
      "79.95\n",
      "299.96999999999997\n",
      "59.98\n",
      "199.96\n",
      "15.99\n",
      "499.95\n",
      "89.97\n",
      "99.98\n",
      "63.96\n",
      "99.99\n",
      "149.95\n",
      "149.97\n",
      "31.98\n",
      "399.96\n",
      "29.99\n",
      "249.95000000000002\n",
      "47.97\n",
      "199.98\n",
      "119.96\n",
      "49.99\n",
      "79.95\n",
      "299.96999999999997\n",
      "59.98\n",
      "199.96\n",
      "15.99\n",
      "499.95\n",
      "89.97\n",
      "99.98\n",
      "63.96\n",
      "99.99\n",
      "149.95\n",
      "149.97\n",
      "31.98\n",
      "399.96\n",
      "29.99\n",
      "249.95000000000002\n",
      "47.97\n",
      "199.98\n",
      "119.96\n",
      "49.99\n",
      "79.95\n",
      "299.96999999999997\n",
      "59.98\n",
      "199.96\n",
      "15.99\n",
      "499.95\n",
      "89.97\n",
      "99.98\n",
      "63.96\n",
      "99.99\n",
      "149.95\n",
      "149.97\n",
      "31.98\n",
      "399.96\n",
      "29.99\n",
      "249.95000000000002\n",
      "47.97\n",
      "199.98\n",
      "119.96\n",
      "49.99\n",
      "79.95\n",
      "299.96999999999997\n",
      "59.98\n",
      "199.96\n",
      "15.99\n",
      "499.95\n",
      "89.97\n"
     ]
    }
   ],
   "source": [
    "for i in sales_data:\n",
    "\n",
    "    # Calculate the sales value for the current sale\n",
    "\n",
    "    sales_value = float(i['quantity']) * float(i['price'])\n",
    "\n",
    "    \n",
    "\n",
    "    # Print the details\n",
    "\n",
    "    print(sales_value)"
   ]
  },
  {
   "cell_type": "code",
   "execution_count": null,
   "id": "53d186e0",
   "metadata": {},
   "outputs": [],
   "source": []
  }
 ],
 "metadata": {
  "kernelspec": {
   "display_name": "Python 3 (ipykernel)",
   "language": "python",
   "name": "python3"
  },
  "language_info": {
   "codemirror_mode": {
    "name": "ipython",
    "version": 3
   },
   "file_extension": ".py",
   "mimetype": "text/x-python",
   "name": "python",
   "nbconvert_exporter": "python",
   "pygments_lexer": "ipython3",
   "version": "3.11.4"
  }
 },
 "nbformat": 4,
 "nbformat_minor": 5
}
